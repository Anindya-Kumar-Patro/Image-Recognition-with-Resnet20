{
 "cells": [
  {
   "cell_type": "code",
   "execution_count": 1,
   "metadata": {},
   "outputs": [
    {
     "name": "stderr",
     "output_type": "stream",
     "text": [
      "Using TensorFlow backend.\n"
     ]
    }
   ],
   "source": [
    "import keras\n",
    "import numpy as np\n",
    "from keras.preprocessing import image\n",
    "from keras.applications import resnet50\n",
    "\n",
    "\n"
   ]
  },
  {
   "cell_type": "code",
   "execution_count": 2,
   "metadata": {},
   "outputs": [],
   "source": [
    "model = resnet50.ResNet50()\n",
    "\n"
   ]
  },
  {
   "cell_type": "code",
   "execution_count": 4,
   "metadata": {},
   "outputs": [],
   "source": [
    "##### sample image ###############\n",
    "img  = image.load_img(\"apple.jpg\", target_size=(224,224))\n"
   ]
  },
  {
   "cell_type": "code",
   "execution_count": 5,
   "metadata": {},
   "outputs": [
    {
     "name": "stdout",
     "output_type": "stream",
     "text": [
      "Downloading data from https://storage.googleapis.com/download.tensorflow.org/data/imagenet_class_index.json\n",
      "40960/35363 [==================================] - 0s 3us/step\n",
      "This is image of:\n",
      " - Granny_Smith: 0.504879 likelihood\n",
      " - strawberry: 0.097983 likelihood\n",
      " - pomegranate: 0.092625 likelihood\n",
      " - candle: 0.033001 likelihood\n",
      " - nail: 0.029799 likelihood\n",
      " - orange: 0.017318 likelihood\n",
      " - hip: 0.017232 likelihood\n",
      " - croquet_ball: 0.013599 likelihood\n",
      " - banana: 0.009885 likelihood\n"
     ]
    }
   ],
   "source": [
    "\n",
    "x = image.img_to_array(img)\n",
    "\n",
    "x = np.expand_dims(x,axis=0)\n",
    "\n",
    "x = resnet50.preprocess_input(x)\n",
    "\n",
    "predictions = model.predict(x)\n",
    "\n",
    "pred_class = resnet50.decode_predictions(predictions, top = 9)\n",
    "\n",
    "print(\"This is image of:\")\n",
    "for imagenet_id , name , likelihood in pred_class[0]:\n",
    "        print(\" - {}: {:2f} likelihood\".format(name, likelihood))"
   ]
  }
 ],
 "metadata": {
  "kernelspec": {
   "display_name": "Python 3",
   "language": "python",
   "name": "python3"
  },
  "language_info": {
   "codemirror_mode": {
    "name": "ipython",
    "version": 3
   },
   "file_extension": ".py",
   "mimetype": "text/x-python",
   "name": "python",
   "nbconvert_exporter": "python",
   "pygments_lexer": "ipython3",
   "version": "3.7.4"
  }
 },
 "nbformat": 4,
 "nbformat_minor": 2
}
